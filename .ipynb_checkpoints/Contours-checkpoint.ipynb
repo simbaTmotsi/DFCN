{
 "cells": [
  {
   "cell_type": "code",
   "execution_count": 1,
   "metadata": {},
   "outputs": [],
   "source": [
    "# imports\n",
    "import numpy as np# vital for open-cv and math manipulation\n",
    "import cv2 # for image pre-processing\n",
    "import matplotlib.pyplot as plt\n",
    "#import tensorflow as tf\n",
    "import os # accessing files on my hard disk\n",
    "import fnmatch #matching file extensions\n",
    "%matplotlib inline"
   ]
  },
  {
   "cell_type": "code",
   "execution_count": 2,
   "metadata": {},
   "outputs": [],
   "source": [
    "Contoured_images = []\n",
    "RGB_images =[]"
   ]
  },
  {
   "cell_type": "code",
   "execution_count": 3,
   "metadata": {},
   "outputs": [],
   "source": [
    "here = os.getcwd() # to get to the current location in the system path"
   ]
  },
  {
   "cell_type": "code",
   "execution_count": 4,
   "metadata": {},
   "outputs": [],
   "source": [
    "dataset_dir = here + \"\\Dataset\\Original\" # locating the path with our dataset\n"
   ]
  },
  {
   "cell_type": "markdown",
   "metadata": {},
   "source": [
    "## Functions"
   ]
  },
  {
   "cell_type": "code",
   "execution_count": 5,
   "metadata": {},
   "outputs": [],
   "source": [
    "def make_image_lists(dataset_directory):\n",
    "    for subdir, dirs, files in os.walk(dataset_dir): # here we are traversing the folder and its contents\n",
    "        for file in files: # operation to peform on each file\n",
    "            #print os.path.join(subdir, file)\n",
    "            image = subdir + os.sep + file # accessing each file\n",
    "            if image.endswith(\".png\") == False: # accessing all non png files\n",
    "                image = cv2.imread(image)\n",
    "                RGB_images.append(image)\n",
    "            else:\n",
    "                image = cv2.imread(image)\n",
    "                image = cv2.cvtColor(image, cv2.COLOR_BGR2GRAY)\n",
    "                Contoured_images.append(image)\n",
    "    print(\"Done adding to list: \\n RGB_images \\n and \\n Contoured_images\")\n",
    "    print('\\n we have {} colored image in RGB_images'.format(len(RGB_images)))\n",
    "    print('\\n we have {} Black and white images in Contoured_images'.format(len(Contoured_images)))\n",
    "    #return RGB_images, Contoured_images"
   ]
  },
  {
   "cell_type": "code",
   "execution_count": 6,
   "metadata": {},
   "outputs": [],
   "source": [
    "def make_bounding_boxes(Contoured_images, RGB_images):\n",
    "    for gray_image_in_index in Contoured_images:\n",
    "        (_, contours, _) = cv2.findContours(gray_image_in_index, cv2.RETR_EXTERNAL,cv2.CHAIN_APPROX_SIMPLE)\n",
    "        #print(\"Found %d object<s>.\" % len(contours))\n",
    "        \"\"\"\n",
    "        for (i, c) in enumerate(contours):\n",
    "            print(\"\\tSize of contour %d: %d\" % (i, len(c)))\n",
    "        \"\"\"\n",
    "        writing_directory = \"simba/boxed-{}.png\".format(str(gray_image_in_index))\n",
    "        print(RGB_images[gray_image_in_index])\n",
    "        cv2.drawContours(RGB_images[gray_image_in_index], contours, -1, (0, 0, 255), 5)\n",
    "        cv2.imwrite(writing_directory,Contoured_images[gray_image_in_index])\n",
    "    print('Done making files with bounding boxes')"
   ]
  },
  {
   "cell_type": "code",
   "execution_count": 7,
   "metadata": {},
   "outputs": [
    {
     "name": "stdout",
     "output_type": "stream",
     "text": [
      "Done adding to list: \n",
      " RGB_images \n",
      " and \n",
      " Contoured_images\n",
      "\n",
      " we have 126 colored image in RGB_images\n",
      "\n",
      " we have 126 Black and white images in Contoured_images\n"
     ]
    }
   ],
   "source": [
    "make_image_lists(dataset_dir)"
   ]
  },
  {
   "cell_type": "code",
   "execution_count": 8,
   "metadata": {},
   "outputs": [
    {
     "ename": "TypeError",
     "evalue": "only integer scalar arrays can be converted to a scalar index",
     "output_type": "error",
     "traceback": [
      "\u001b[1;31m---------------------------------------------------------------------------\u001b[0m",
      "\u001b[1;31mTypeError\u001b[0m                                 Traceback (most recent call last)",
      "\u001b[1;32m<ipython-input-8-fa3e550450e2>\u001b[0m in \u001b[0;36m<module>\u001b[1;34m()\u001b[0m\n\u001b[1;32m----> 1\u001b[1;33m \u001b[0mmake_bounding_boxes\u001b[0m\u001b[1;33m(\u001b[0m\u001b[0mContoured_images\u001b[0m\u001b[1;33m,\u001b[0m \u001b[0mRGB_images\u001b[0m\u001b[1;33m)\u001b[0m\u001b[1;33m\u001b[0m\u001b[0m\n\u001b[0m",
      "\u001b[1;32m<ipython-input-6-b98c4e20a92d>\u001b[0m in \u001b[0;36mmake_bounding_boxes\u001b[1;34m(Contoured_images, RGB_images)\u001b[0m\n\u001b[0;32m      8\u001b[0m         \"\"\"\n\u001b[0;32m      9\u001b[0m         \u001b[0mwriting_directory\u001b[0m \u001b[1;33m=\u001b[0m \u001b[1;34m\"simba/boxed-{}.png\"\u001b[0m\u001b[1;33m.\u001b[0m\u001b[0mformat\u001b[0m\u001b[1;33m(\u001b[0m\u001b[0mstr\u001b[0m\u001b[1;33m(\u001b[0m\u001b[0mgray_image_in_index\u001b[0m\u001b[1;33m)\u001b[0m\u001b[1;33m)\u001b[0m\u001b[1;33m\u001b[0m\u001b[0m\n\u001b[1;32m---> 10\u001b[1;33m         \u001b[0mcv2\u001b[0m\u001b[1;33m.\u001b[0m\u001b[0mdrawContours\u001b[0m\u001b[1;33m(\u001b[0m\u001b[0mRGB_images\u001b[0m\u001b[1;33m[\u001b[0m\u001b[0mgray_image_in_index\u001b[0m\u001b[1;33m]\u001b[0m\u001b[1;33m,\u001b[0m \u001b[0mcontours\u001b[0m\u001b[1;33m,\u001b[0m \u001b[1;33m-\u001b[0m\u001b[1;36m1\u001b[0m\u001b[1;33m,\u001b[0m \u001b[1;33m(\u001b[0m\u001b[1;36m0\u001b[0m\u001b[1;33m,\u001b[0m \u001b[1;36m0\u001b[0m\u001b[1;33m,\u001b[0m \u001b[1;36m255\u001b[0m\u001b[1;33m)\u001b[0m\u001b[1;33m,\u001b[0m \u001b[1;36m5\u001b[0m\u001b[1;33m)\u001b[0m\u001b[1;33m\u001b[0m\u001b[0m\n\u001b[0m\u001b[0;32m     11\u001b[0m         \u001b[0mcv2\u001b[0m\u001b[1;33m.\u001b[0m\u001b[0mimwrite\u001b[0m\u001b[1;33m(\u001b[0m\u001b[0mwriting_directory\u001b[0m\u001b[1;33m,\u001b[0m\u001b[0mContoured_images\u001b[0m\u001b[1;33m[\u001b[0m\u001b[0mgray_image_in_index\u001b[0m\u001b[1;33m]\u001b[0m\u001b[1;33m)\u001b[0m\u001b[1;33m\u001b[0m\u001b[0m\n\u001b[0;32m     12\u001b[0m     \u001b[0mprint\u001b[0m\u001b[1;33m(\u001b[0m\u001b[1;34m'Done making files with bounding boxes'\u001b[0m\u001b[1;33m)\u001b[0m\u001b[1;33m\u001b[0m\u001b[0m\n",
      "\u001b[1;31mTypeError\u001b[0m: only integer scalar arrays can be converted to a scalar index"
     ]
    }
   ],
   "source": [
    "make_bounding_boxes(Contoured_images, RGB_images)"
   ]
  },
  {
   "cell_type": "code",
   "execution_count": null,
   "metadata": {},
   "outputs": [],
   "source": []
  }
 ],
 "metadata": {
  "kernelspec": {
   "display_name": "Python 3",
   "language": "python",
   "name": "python3"
  },
  "language_info": {
   "codemirror_mode": {
    "name": "ipython",
    "version": 3
   },
   "file_extension": ".py",
   "mimetype": "text/x-python",
   "name": "python",
   "nbconvert_exporter": "python",
   "pygments_lexer": "ipython3",
   "version": "3.6.3"
  }
 },
 "nbformat": 4,
 "nbformat_minor": 2
}
