{
 "cells": [
  {
   "cell_type": "code",
   "execution_count": 1,
   "metadata": {},
   "outputs": [],
   "source": [
    "# imports\n",
    "import numpy as np# vital for open-cv and math manipulation\n",
    "import cv2 # for image pre-processing\n",
    "import matplotlib.pyplot as plt\n",
    "#import tensorflow as tf\n",
    "import os # accessing files on my hard disk\n",
    "import fnmatch #matching file extensions\n",
    "%matplotlib inline"
   ]
  },
  {
   "cell_type": "code",
   "execution_count": 2,
   "metadata": {},
   "outputs": [],
   "source": [
    "Contoured_images = []\n",
    "RGB_images =[]"
   ]
  },
  {
   "cell_type": "code",
   "execution_count": 3,
   "metadata": {},
   "outputs": [],
   "source": [
    "here = os.getcwd() # to get to the current location in the system path"
   ]
  },
  {
   "cell_type": "code",
   "execution_count": 4,
   "metadata": {},
   "outputs": [],
   "source": [
    "dataset_dir = here + \"\\Dataset\\Original\" # locating the path with our dataset\n"
   ]
  },
  {
   "cell_type": "markdown",
   "metadata": {},
   "source": [
    "## Functions"
   ]
  },
  {
   "cell_type": "code",
   "execution_count": 5,
   "metadata": {},
   "outputs": [],
   "source": [
    "def make_image_lists(dataset_directory):\n",
    "    for subdir, dirs, files in os.walk(dataset_dir): # here we are traversing the folder and its contents\n",
    "        for file in files: # operation to peform on each file\n",
    "            #print os.path.join(subdir, file)\n",
    "            image = subdir + os.sep + file # accessing each file\n",
    "            if image.endswith(\".png\") == False: # accessing all non png files\n",
    "                image = cv2.imread(image)\n",
    "                RGB_images.append(image)\n",
    "            else:\n",
    "                image = cv2.imread(image)\n",
    "                image = cv2.cvtColor(image, cv2.COLOR_BGR2GRAY)\n",
    "                Contoured_images.append(image)\n",
    "    print(\"Done adding to list: \\n RGB_images \\n and \\n Contoured_images\")\n",
    "    print('\\n we have {} colored image in RGB_images'.format(len(RGB_images)))\n",
    "    print('\\n we have {} Black and white images in Contoured_images'.format(len(Contoured_images)))\n",
    "    #return RGB_images, Contoured_images"
   ]
  },
  {
   "cell_type": "code",
   "execution_count": 6,
   "metadata": {},
   "outputs": [],
   "source": [
    "def make_bounding_boxes(Contoured_images, RGB_images):\n",
    "    i = 0\n",
    "    while i < len(Contoured_images):\n",
    "        # finding contours\n",
    "        (_, contours, _) = cv2.findContours(Contoured_images[i], cv2.RETR_EXTERNAL,cv2.CHAIN_APPROX_SIMPLE)\n",
    "        \n",
    "        #bounding rectangles\n",
    "        for c in contours:\n",
    "            rect = cv2.boundingRect(c)\n",
    "            x,y,w,h = rect\n",
    "            re = cv2.rectangle(RGB_images[i],(x,y),(x+w,y+h),(0,255,0),5)\n",
    "        \n",
    "        #writing the images\n",
    "        writing_directory = \"simba/boxed-{}.png\".format(str(i))\n",
    "        drawn = cv2.drawContours(RGB_images[i], contours, -1, (0, 0, 255), 2)\n",
    "        cv2.imwrite(writing_directory,drawn)\n",
    "        #cv2.imwrite(writing_directory,re)\n",
    "        i+= 1\n",
    "    print('Done making files with bounding boxes')"
   ]
  },
  {
   "cell_type": "code",
   "execution_count": 7,
   "metadata": {},
   "outputs": [
    {
     "name": "stdout",
     "output_type": "stream",
     "text": [
      "Done adding to list: \n",
      " RGB_images \n",
      " and \n",
      " Contoured_images\n",
      "\n",
      " we have 126 colored image in RGB_images\n",
      "\n",
      " we have 126 Black and white images in Contoured_images\n"
     ]
    }
   ],
   "source": [
    "make_image_lists(dataset_dir)"
   ]
  },
  {
   "cell_type": "code",
   "execution_count": 8,
   "metadata": {},
   "outputs": [
    {
     "name": "stdout",
     "output_type": "stream",
     "text": [
      "Done making files with bounding boxes\n"
     ]
    }
   ],
   "source": [
    "make_bounding_boxes(Contoured_images, RGB_images)"
   ]
  },
  {
   "cell_type": "code",
   "execution_count": null,
   "metadata": {},
   "outputs": [],
   "source": []
  }
 ],
 "metadata": {
  "kernelspec": {
   "display_name": "Python 3",
   "language": "python",
   "name": "python3"
  },
  "language_info": {
   "codemirror_mode": {
    "name": "ipython",
    "version": 3
   },
   "file_extension": ".py",
   "mimetype": "text/x-python",
   "name": "python",
   "nbconvert_exporter": "python",
   "pygments_lexer": "ipython3",
   "version": "3.6.3"
  }
 },
 "nbformat": 4,
 "nbformat_minor": 2
}
